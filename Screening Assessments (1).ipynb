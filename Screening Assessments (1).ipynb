{
 "cells": [
  {
   "cell_type": "markdown",
   "id": "9d443c40",
   "metadata": {},
   "source": [
    "# PYTHON SCREENING ASSESSMENT"
   ]
  },
  {
   "cell_type": "markdown",
   "id": "a11198f7",
   "metadata": {},
   "source": [
    "### Function to read a '.txt' file and replace a specific content"
   ]
  },
  {
   "cell_type": "code",
   "execution_count": 67,
   "id": "dca6f9cc",
   "metadata": {},
   "outputs": [],
   "source": [
    "# CREATING THE ORIGIN FILE\n",
    "\n",
    "with open('example.txt', 'w') as file :\n",
    "    file.write('This is a placement assignment')"
   ]
  },
  {
   "cell_type": "code",
   "execution_count": 68,
   "id": "7ca6c918",
   "metadata": {},
   "outputs": [],
   "source": [
    "# FUNCTION FOR REPLACING A STRING IN A TEXT FILE\n",
    "\n",
    "def replace_str_in_file(filename):\n",
    "    x = input('ENTER THE STRING TO REPLACE : ')\n",
    "    y = input('ENTER THE STRING TO BE REPLACED WITH :')\n",
    "    with open(filename, 'r') as file:\n",
    "        file_data = file.read()\n",
    "        file_data = file_data.replace(x, y)\n",
    "    return file_data"
   ]
  },
  {
   "cell_type": "code",
   "execution_count": 69,
   "id": "72ced206",
   "metadata": {},
   "outputs": [
    {
     "name": "stdout",
     "output_type": "stream",
     "text": [
      "ORIGINAL FILE CONTENT : This is a placement assignment\n",
      "ENTER THE STRING TO REPLACE : placement\n",
      "ENTER THE STRING TO BE REPLACED WITH :screening\n",
      "FILE CONTENT AFTER REPLACEMENT : This is a screening assignment\n"
     ]
    }
   ],
   "source": [
    "# IMPLIMENTATION OF THE FUNCTION\n",
    "\n",
    "f = open('example.txt', 'r')\n",
    "\n",
    "origin_content = f.read()\n",
    "print(f'ORIGINAL FILE CONTENT : {origin_content}')\n",
    "\n",
    "out_content = replace_str_in_file('example.txt')\n",
    "print(f'FILE CONTENT AFTER REPLACEMENT : {out_content}')"
   ]
  },
  {
   "cell_type": "markdown",
   "id": "875a5b0e",
   "metadata": {},
   "source": [
    "# DECORATORS"
   ]
  },
  {
   "cell_type": "markdown",
   "id": "4ca49b63",
   "metadata": {},
   "source": [
    "### Demonstration of Decorators :"
   ]
  },
  {
   "cell_type": "code",
   "execution_count": 142,
   "id": "7fcbbefd",
   "metadata": {},
   "outputs": [],
   "source": [
    "# CUSTOM FUNCTION CREATION:\n",
    "\n",
    "def cust_func():\n",
    "    print('Execution of custom function')\n",
    "    \n",
    "#MAIN FUNCTION WHERE WE WILL PASS OUR FUNCTION\n",
    "\n",
    "def main_funct(func):\n",
    "    \n",
    "    def sub_func():\n",
    "        func()\n",
    "        print('Execution of the child function inside the parent function ')\n",
    "        \n",
    "    return sub_func()"
   ]
  },
  {
   "cell_type": "code",
   "execution_count": 143,
   "id": "7b7a6fb6",
   "metadata": {},
   "outputs": [
    {
     "name": "stdout",
     "output_type": "stream",
     "text": [
      "Execution of custom function\n",
      "Execution of the child function inside the parent function \n"
     ]
    }
   ],
   "source": [
    "# CALLING THE FUNCTION\n",
    "\n",
    "main_funct(cust_func)    # we are passing our custom function as an arguement here "
   ]
  },
  {
   "cell_type": "markdown",
   "id": "9c64abdc",
   "metadata": {},
   "source": [
    "### There is other way of calling this function by defining a DECORATOR"
   ]
  },
  {
   "cell_type": "code",
   "execution_count": 66,
   "id": "99207086",
   "metadata": {},
   "outputs": [
    {
     "name": "stdout",
     "output_type": "stream",
     "text": [
      "This is a example of decorator\n",
      "Execution of the child function inside the parent function \n"
     ]
    }
   ],
   "source": [
    "@parent_funct                  # this is called decorator\n",
    "def cust_func():\n",
    "    print('This is a example of decorator')"
   ]
  },
  {
   "cell_type": "markdown",
   "id": "6888d3f6",
   "metadata": {},
   "source": [
    "### Note :\n",
    "\n",
    "- The above example explains the actual use of a decorator in python. Like if we have to use a function (here the parent func) many times, so we can just use it by writing '@' and that function name.  "
   ]
  },
  {
   "cell_type": "markdown",
   "id": "d4c01201",
   "metadata": {},
   "source": [
    "# MULTIPLE INHERITANCE"
   ]
  },
  {
   "attachments": {
    "multipleinh%20%281%29.png": {
     "image/png": "[encoded data removed]"
    }
   },
   "cell_type": "markdown",
   "id": "ea74f1ab",
   "metadata": {},
   "source": [
    "![multipleinh%20%281%29.png](attachment:multipleinh%20%281%29.png)"
   ]
  },
  {
   "cell_type": "markdown",
   "id": "3ecaa34a",
   "metadata": {},
   "source": [
    "- Inheritance : Inheritance is the ability of one class to inherit another class. That means basically all the properties and all the other things avalible inside one function will be availible inside the function which will inherite it.\n",
    "\n",
    "- Multiple Inheritance : Multiple inheritance is where a child class inherits the properties of other two or more classes. Here we can access all the properties of those child or base clasess by calling the object of the parent class only.\n",
    "\n",
    "A figure above is shown for the basic visualization of the multiple inheritance"
   ]
  },
  {
   "cell_type": "markdown",
   "id": "f29a9542",
   "metadata": {},
   "source": [
    "### Demonstration of Multiple Inheritance:"
   ]
  },
  {
   "cell_type": "code",
   "execution_count": 131,
   "id": "b16eca9e",
   "metadata": {},
   "outputs": [],
   "source": [
    "# CREATING TWO BASE CLASS :\n",
    "\n",
    "\n",
    "# Parent class 1\n",
    "\n",
    "class parent_class_1:\n",
    "        \n",
    "    def method_1(self):\n",
    "        return ('Method_1 of parent_class_1 is called')\n",
    "    \n",
    "    def method_2(self):\n",
    "        return ('Method_2 of parent_class_1 is called')\n",
    "\n",
    "# Parent class 2\n",
    "\n",
    "class parent_class_2:\n",
    "    \n",
    "    def method_3(self):\n",
    "        return ('Method_3 of parent_class_2 is called')\n",
    "    \n",
    "    def method_4(self):\n",
    "        return ('Method_4 of parent_class_2 is called')"
   ]
  },
  {
   "cell_type": "code",
   "execution_count": 139,
   "id": "497a7be6",
   "metadata": {},
   "outputs": [],
   "source": [
    "# CREATING THE PARENT CLASS :\n",
    "\n",
    "class child_class(parent_class_1,parent_class_2):\n",
    "    \n",
    "    def method_5(self):\n",
    "        print('Method of child class is called')"
   ]
  },
  {
   "cell_type": "code",
   "execution_count": 140,
   "id": "435882e1",
   "metadata": {},
   "outputs": [],
   "source": [
    "# CREATING OBJECT OF PARENT CLASS :\n",
    "\n",
    "obj_pclass = child_class() "
   ]
  },
  {
   "cell_type": "markdown",
   "id": "44e180cc",
   "metadata": {},
   "source": [
    "- Now we will see if we can call all the methods of the two base classes (inherited by the parent class) using the object of the parent class."
   ]
  },
  {
   "cell_type": "code",
   "execution_count": 133,
   "id": "616ae7f1",
   "metadata": {},
   "outputs": [
    {
     "data": {
      "text/plain": [
       "'Method_1 of parent_class_1 is called'"
      ]
     },
     "execution_count": 133,
     "metadata": {},
     "output_type": "execute_result"
    }
   ],
   "source": [
    "obj_pclass.method_1()          # can access the method of child class 1"
   ]
  },
  {
   "cell_type": "code",
   "execution_count": 134,
   "id": "bd06391b",
   "metadata": {},
   "outputs": [
    {
     "data": {
      "text/plain": [
       "'Method_2 of parent_class_1 is called'"
      ]
     },
     "execution_count": 134,
     "metadata": {},
     "output_type": "execute_result"
    }
   ],
   "source": [
    "obj_pclass.method_2()"
   ]
  },
  {
   "cell_type": "code",
   "execution_count": 135,
   "id": "bbbafb6d",
   "metadata": {},
   "outputs": [
    {
     "data": {
      "text/plain": [
       "'Method_3 of parent_class_2 is called'"
      ]
     },
     "execution_count": 135,
     "metadata": {},
     "output_type": "execute_result"
    }
   ],
   "source": [
    "obj_pclass.method_3()          # can access the methods of child class 2"
   ]
  },
  {
   "cell_type": "code",
   "execution_count": 136,
   "id": "bd68f4f6",
   "metadata": {},
   "outputs": [
    {
     "data": {
      "text/plain": [
       "'Method_4 of parent_class_2 is called'"
      ]
     },
     "execution_count": 136,
     "metadata": {},
     "output_type": "execute_result"
    }
   ],
   "source": [
    "obj_pclass.method_4()"
   ]
  },
  {
   "cell_type": "code",
   "execution_count": 141,
   "id": "482f41b3",
   "metadata": {},
   "outputs": [
    {
     "name": "stdout",
     "output_type": "stream",
     "text": [
      "Method of child class is called\n"
     ]
    }
   ],
   "source": [
    "obj_pclass.method_5()"
   ]
  },
  {
   "cell_type": "markdown",
   "id": "6627e5b8",
   "metadata": {},
   "source": [
    "### Conclusion : \n",
    "\n",
    "From the above example we can have a clear idea of Multiple Inheritance "
   ]
  },
  {
   "cell_type": "markdown",
   "id": "9a6125b7",
   "metadata": {},
   "source": [
    "# ABSTRACT CLASS "
   ]
  },
  {
   "cell_type": "markdown",
   "id": "ccc554df",
   "metadata": {},
   "source": [
    "\n",
    "- Abstract Method & Abstract Class : A method which has only a declaration but not a defination is called a abstract method. And the class which will have the abstract methods is called abstract class.\n",
    "\n",
    "An abstract class can be considered as a blueprint for other classes. It allows you to create a set of methods that must be created within any child classes built from the abstract class. "
   ]
  },
  {
   "cell_type": "markdown",
   "id": "db7454f7",
   "metadata": {},
   "source": [
    "### Note : \n",
    "\n",
    "By default, Python does not provide abstract classes. Python comes with a module that provides the base for defining Abstract Base classes(ABC) and that module name is ABC. "
   ]
  },
  {
   "cell_type": "markdown",
   "id": "5d5c6091",
   "metadata": {},
   "source": [
    "### Note : We cant create a object of abstract class\n",
    "\n",
    "### Reason :  If we will create an object of the abstract class and calls the method having no body(as the method is pure virtual) it will give an error."
   ]
  },
  {
   "cell_type": "code",
   "execution_count": 118,
   "id": "fd7c4441",
   "metadata": {},
   "outputs": [],
   "source": [
    "# IMPORTS FOR ABSTRACT CLASS\n",
    "\n",
    "from abc import ABC, abstractmethod"
   ]
  },
  {
   "cell_type": "markdown",
   "id": "e0b1fea3",
   "metadata": {},
   "source": [
    "### Demonstration of Abstract Class :"
   ]
  },
  {
   "cell_type": "code",
   "execution_count": 119,
   "id": "e1e9f25a",
   "metadata": {},
   "outputs": [],
   "source": [
    "class abc_class(ABC):\n",
    "    \n",
    "    @abstractmethod                   # using decorator to define that this method is abstract\n",
    "    def method_1(self):\n",
    "        pass\n",
    "\n",
    "class parent_class(abc_class):\n",
    "    \n",
    "    def method_2(self):\n",
    "        print('Hello World')"
   ]
  },
  {
   "cell_type": "code",
   "execution_count": 120,
   "id": "4427b6a0",
   "metadata": {},
   "outputs": [
    {
     "ename": "TypeError",
     "evalue": "Can't instantiate abstract class parent_class with abstract method method_1",
     "output_type": "error",
     "traceback": [
      "\u001b[1;31m---------------------------------------------------------------------------\u001b[0m",
      "\u001b[1;31mTypeError\u001b[0m                                 Traceback (most recent call last)",
      "\u001b[1;32m~\\AppData\\Local\\Temp/ipykernel_44700/881880623.py\u001b[0m in \u001b[0;36m<module>\u001b[1;34m\u001b[0m\n\u001b[1;32m----> 1\u001b[1;33m \u001b[0mobj\u001b[0m \u001b[1;33m=\u001b[0m \u001b[0mparent_class\u001b[0m\u001b[1;33m(\u001b[0m\u001b[1;33m)\u001b[0m\u001b[1;33m\u001b[0m\u001b[1;33m\u001b[0m\u001b[0m\n\u001b[0m\u001b[0;32m      2\u001b[0m \u001b[0mobj\u001b[0m\u001b[1;33m.\u001b[0m\u001b[0mmethod_2\u001b[0m\u001b[1;33m(\u001b[0m\u001b[1;33m)\u001b[0m\u001b[1;33m\u001b[0m\u001b[1;33m\u001b[0m\u001b[0m\n",
      "\u001b[1;31mTypeError\u001b[0m: Can't instantiate abstract class parent_class with abstract method method_1"
     ]
    }
   ],
   "source": [
    "obj = parent_class()\n",
    "obj.method_2()"
   ]
  },
  {
   "cell_type": "markdown",
   "id": "176ae0c8",
   "metadata": {},
   "source": [
    "### Observation : We can see that when we are trying to create an object of a abstract class, its giving us a error"
   ]
  },
  {
   "cell_type": "code",
   "execution_count": 121,
   "id": "d571d518",
   "metadata": {},
   "outputs": [],
   "source": [
    "# WITHOUT ABSTRACT CLASS\n",
    "\n",
    "class abc_class():\n",
    "                    \n",
    "    def method_1(self):\n",
    "        print('Method_1 of abc_class called')\n",
    "\n",
    "class parent_class(abc_class):\n",
    "    \n",
    "    def method_2(self):\n",
    "        print('Hello World')"
   ]
  },
  {
   "cell_type": "code",
   "execution_count": 122,
   "id": "b6875efa",
   "metadata": {},
   "outputs": [
    {
     "name": "stdout",
     "output_type": "stream",
     "text": [
      "Hello World\n"
     ]
    }
   ],
   "source": [
    "obj = parent_class()\n",
    "obj.method_2()"
   ]
  },
  {
   "cell_type": "markdown",
   "id": "45589cdd",
   "metadata": {},
   "source": [
    "### Use cases of Abstract Class :"
   ]
  },
  {
   "cell_type": "markdown",
   "id": "da921b44",
   "metadata": {},
   "source": [
    "By using an abstract base class, we can create a common Application Program Interface(API) for a set of subclasses."
   ]
  },
  {
   "cell_type": "code",
   "execution_count": null,
   "id": "99cdf5ef",
   "metadata": {},
   "outputs": [],
   "source": []
  }
 ],
 "metadata": {
  "kernelspec": {
   "display_name": "Python 3 (ipykernel)",
   "language": "python",
   "name": "python3"
  },
  "language_info": {
   "codemirror_mode": {
    "name": "ipython",
    "version": 3
   },
   "file_extension": ".py",
   "mimetype": "text/x-python",
   "name": "python",
   "nbconvert_exporter": "python",
   "pygments_lexer": "ipython3",
   "version": "3.9.7"
  }
 },
 "nbformat": 4,
 "nbformat_minor": 5
}
